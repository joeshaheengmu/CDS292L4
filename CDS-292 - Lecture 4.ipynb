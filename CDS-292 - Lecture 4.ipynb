{
 "cells": [
  {
   "cell_type": "code",
   "execution_count": 2,
   "metadata": {},
   "outputs": [],
   "source": [
    "import networkx as nx\n",
    "import matplotlib.pyplot as plt"
   ]
  },
  {
   "cell_type": "code",
   "execution_count": 5,
   "metadata": {},
   "outputs": [],
   "source": [
    "with open(\"moreno-4th-simple.dat\", \"r\") as moreno: #Read the file into a variable\n",
    "    moreno_data = [] # create a list\n",
    "    for line in moreno:\n",
    "        moreno_data.append(line) #read the file into a list line by line, each one representing an edge\n",
    "moreno_data = [x.strip() for x in moreno_data] #strip the eol character"
   ]
  },
  {
   "cell_type": "code",
   "execution_count": 6,
   "metadata": {},
   "outputs": [
    {
     "data": {
      "text/plain": [
       "['BA AB',\n",
       " 'BA BR1',\n",
       " 'DE EP',\n",
       " 'DE RY',\n",
       " 'DE YL',\n",
       " 'DE KN',\n",
       " 'BR2 FA',\n",
       " 'BR2 CH',\n",
       " 'BR2 MC',\n",
       " 'BR2 RS',\n",
       " 'BR1 AB',\n",
       " 'BR1 PN',\n",
       " 'RY MR1',\n",
       " 'FA VN',\n",
       " 'AB SI1',\n",
       " 'AB PN',\n",
       " 'CV BU',\n",
       " 'CV VN',\n",
       " 'YL KI',\n",
       " 'YL GR',\n",
       " 'YL KN',\n",
       " 'RS MC',\n",
       " 'MR1 EP',\n",
       " 'MR1 LN1',\n",
       " 'MR1 SM',\n",
       " 'MR1 LN2',\n",
       " 'MR2 SI2',\n",
       " 'MR2 CF',\n",
       " 'MR2 WI',\n",
       " 'MR2 LN2',\n",
       " 'LI GR',\n",
       " 'LI SN',\n",
       " 'CH SI2',\n",
       " 'CH FC',\n",
       " 'GR SI1',\n",
       " 'GR SN',\n",
       " 'LN1 SM',\n",
       " 'LN1 SN',\n",
       " 'CF VN',\n",
       " 'VN LN2',\n",
       " 'VN BU',\n",
       " 'VN FC',\n",
       " 'LN2 FC',\n",
       " 'LN2 WI',\n",
       " 'KI KN']"
      ]
     },
     "execution_count": 6,
     "metadata": {},
     "output_type": "execute_result"
    }
   ],
   "source": [
    "moreno_data"
   ]
  },
  {
   "cell_type": "code",
   "execution_count": 10,
   "metadata": {},
   "outputs": [
    {
     "name": "stdout",
     "output_type": "stream",
     "text": [
      "This is the number of nodes  31\n",
      "This is the number of edges  45\n"
     ]
    }
   ],
   "source": [
    "#In the notes, we are asked to run a number of tests to verify the integrity of the data file. We will skip those tests\n",
    "# and your assignment is to test the integrity of the data on your own.\n",
    "\n",
    "G = nx.Graph()\n",
    "for links in moreno_data:\n",
    "    LS = links.split()\n",
    "    G.add_edge(LS[0], LS[1])\n",
    "print(\"This is the number of nodes \", len(G.nodes()))\n",
    "print(\"This is the number of edges \", len(G.edges()))\n",
    "    "
   ]
  },
  {
   "cell_type": "code",
   "execution_count": 11,
   "metadata": {},
   "outputs": [
    {
     "data": {
      "text/plain": [
       "0.0967741935483871"
      ]
     },
     "execution_count": 11,
     "metadata": {},
     "output_type": "execute_result"
    }
   ],
   "source": [
    "#Let's check the density of the network:\n",
    "\n",
    "nx.density(G)"
   ]
  },
  {
   "cell_type": "code",
   "execution_count": 12,
   "metadata": {
    "collapsed": true
   },
   "outputs": [],
   "source": [
    "# We would consider this network to be sparse. Remember what we say last week about what we can interpet density as?"
   ]
  },
  {
   "cell_type": "code",
   "execution_count": 19,
   "metadata": {},
   "outputs": [
    {
     "data": {
      "image/png": "[encoded data removed]",
      "text/plain": [
       "<matplotlib.figure.Figure at 0x1f9cfb5e898>"
      ]
     },
     "metadata": {},
     "output_type": "display_data"
    }
   ],
   "source": [
    "#Now let's look at the degree distribution of our network\n",
    "plt.hist(sorted(nx.degree(G).values()), bins=45) #you can also do bins='auto'\n",
    "plt.show()"
   ]
  },
  {
   "cell_type": "code",
   "execution_count": 25,
   "metadata": {},
   "outputs": [],
   "source": [
    "#Now let's talk about paths\n",
    "\n",
    "# A path is an ordered sequence of links such that consecutive links each have one link in common.\n",
    "\n",
    "# A - B - C - D is a path of length 4\n",
    "\n",
    "# Every path has source and destination. For undirected graphs we will use the first mentioned \n",
    "# node as source and the last as destination. In our path above, the source would be A and the destination would be D\n"
   ]
  },
  {
   "cell_type": "code",
   "execution_count": null,
   "metadata": {
    "collapsed": true
   },
   "outputs": [],
   "source": [
    "#Our focus will be on non-overlapping paths -- that is -- paths that do not visit the same node or link twice. Specifically,\n",
    "# we will focus on the **shortest paths** of a network since they have some powerful implications."
   ]
  },
  {
   "cell_type": "code",
   "execution_count": null,
   "metadata": {
    "collapsed": true
   },
   "outputs": [],
   "source": [
    "#Basically a shortest path is the path between node i and node j that requires the least number of hops.\n",
    "# Yes, there may be more than one shortest path between 2 nodes."
   ]
  },
  {
   "cell_type": "code",
   "execution_count": null,
   "metadata": {
    "collapsed": true
   },
   "outputs": [],
   "source": []
  },
  {
   "cell_type": "code",
   "execution_count": null,
   "metadata": {
    "collapsed": true
   },
   "outputs": [],
   "source": [
    "#No let's talk about how can calculate path length using the Breadth-first search algorithm, also known as the\n",
    "# burning algorithm in Physics\n",
    "\n",
    "#BFS works by identifying all immediately connected nodes to some given node i, then move one more length away and identifying\n",
    "#all nodes connected to those nodes. Imagine a pebble dropping in some water, think of BFS as the waves that occur in the water\n",
    "# from the impact of the pebble.\n",
    "\n",
    "# The identified nodes are called the front."
   ]
  },
  {
   "cell_type": "code",
   "execution_count": 26,
   "metadata": {
    "collapsed": true
   },
   "outputs": [],
   "source": [
    "def BFS(G,s):\n",
    "    front=[s]\n",
    "    d=0\n",
    "    visited=[s]\n",
    "    distance = {}\n",
    "    distance[s]=d\n",
    "    while len(front)>0:\n",
    "        d+=1\n",
    "        new_front=[]\n",
    "        for i in front:\n",
    "            for j in G.neighbors(i):\n",
    "                if j in visited:\n",
    "                    continue\n",
    "                else:\n",
    "                    new_front.append(j)\n",
    "                    distance[j]=d\n",
    "                    visited.append(j)\n",
    "        front=new_front\n",
    "    return(distance)\n"
   ]
  },
  {
   "cell_type": "code",
   "execution_count": 32,
   "metadata": {},
   "outputs": [
    {
     "data": {
      "text/plain": [
       "{'AB': 7,\n",
       " 'BA': 8,\n",
       " 'BR1': 8,\n",
       " 'BR2': 2,\n",
       " 'BU': 1,\n",
       " 'CF': 1,\n",
       " 'CH': 2,\n",
       " 'CV': 1,\n",
       " 'DE': 4,\n",
       " 'EP': 3,\n",
       " 'FA': 1,\n",
       " 'FC': 1,\n",
       " 'GR': 5,\n",
       " 'KI': 6,\n",
       " 'KN': 5,\n",
       " 'LI': 5,\n",
       " 'LN1': 3,\n",
       " 'LN2': 1,\n",
       " 'MC': 3,\n",
       " 'MR1': 2,\n",
       " 'MR2': 2,\n",
       " 'PN': 8,\n",
       " 'RS': 3,\n",
       " 'RY': 3,\n",
       " 'SI1': 6,\n",
       " 'SI2': 3,\n",
       " 'SM': 3,\n",
       " 'SN': 4,\n",
       " 'VN': 0,\n",
       " 'WI': 2,\n",
       " 'YL': 5}"
      ]
     },
     "execution_count": 32,
     "metadata": {},
     "output_type": "execute_result"
    }
   ],
   "source": [
    "distance_dist = BFS(G, 'VN')\n",
    "distance_dist"
   ]
  },
  {
   "cell_type": "code",
   "execution_count": 34,
   "metadata": {
    "scrolled": true
   },
   "outputs": [
    {
     "data": {
      "image/png": "[encoded data removed]",
      "text/plain": [
       "<matplotlib.figure.Figure at 0x1f9cfcd9320>"
      ]
     },
     "metadata": {},
     "output_type": "display_data"
    }
   ],
   "source": [
    "plt.hist(sorted(distance_dist.values()), bins=45) #you can also do bins='auto'\n",
    "plt.show()"
   ]
  }
 ],
 "metadata": {
  "kernelspec": {
   "display_name": "Python 3",
   "language": "python",
   "name": "python3"
  },
  "language_info": {
   "codemirror_mode": {
    "name": "ipython",
    "version": 3
   },
   "file_extension": ".py",
   "mimetype": "text/x-python",
   "name": "python",
   "nbconvert_exporter": "python",
   "pygments_lexer": "ipython3",
   "version": "3.6.1"
  }
 },
 "nbformat": 4,
 "nbformat_minor": 2
}
